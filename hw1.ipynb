{
 "cells": [
  {
   "cell_type": "code",
   "execution_count": 2,
   "metadata": {},
   "outputs": [
    {
     "ename": "SyntaxError",
     "evalue": "invalid syntax (<ipython-input-2-057baa3eb65f>, line 1)",
     "output_type": "error",
     "traceback": [
      "\u001b[1;36m  File \u001b[1;32m\"<ipython-input-2-057baa3eb65f>\"\u001b[1;36m, line \u001b[1;32m1\u001b[0m\n\u001b[1;33m    module load mpi4py/3.0.2/py37\u001b[0m\n\u001b[1;37m           ^\u001b[0m\n\u001b[1;31mSyntaxError\u001b[0m\u001b[1;31m:\u001b[0m invalid syntax\n"
     ]
    }
   ],
   "source": [
    "module load mpi4py/3.0.2/py37\n",
    "from mpi4py import MPI\n",
    "\n",
    "comm = MPI.COMM_WORLD\n",
    "rank = comm.Get_rank()\n",
    "size = comm.Get_size()\n",
    "\n",
    "print('Hello from process {} out of {}'.format(rank, size))\n",
    "\n",
    "\n",
    "import numpy as np                  # imports the numeric python library\n",
    "from matplotlib import pyplot as plt   # imports the required libraries for plotting\n",
    "dt = 1/1000                             # time increment\n",
    "t = np.arange(-1,1,dt)                  # vector [-1,-0.99, ...]\n",
    "f0 = 4                                  # frequency\n",
    "x = 100 * np.real(np.exp(1j*(2*np.pi*f0*(t - 0.75))))\n",
    "\n",
    "f0 = 40                                  # frequency\n",
    "y = 10 * np.real(np.exp(1j*(2*np.pi*f0*(t - 0.75))))\n",
    "z = x*y\n",
    "\n",
    "\n",
    "\n",
    "fig, axes = plt.subplots(3, 1, figsize = (30,15))\n",
    "plt.xlabel(\"time (sec)\")\n",
    "axes[0].set_title(\"Section of a sinusoid\")\n",
    "axes[0].plot(t,x)\n",
    "axes[1].set_title(\"Sinusoid: 10x Frequency, 1/10 Magnitude\")\n",
    "axes[1].plot(t,y)     \n",
    "axes[2].set_title(\"Sinusoid: X * Y\")\n",
    "axes[2].plot(t,z)    \n",
    "plt.show() "
   ]
  },
  {
   "cell_type": "code",
   "execution_count": null,
   "metadata": {},
   "outputs": [],
   "source": []
  },
  {
   "cell_type": "code",
   "execution_count": null,
   "metadata": {},
   "outputs": [],
   "source": []
  }
 ],
 "metadata": {
  "kernelspec": {
   "display_name": "Python 3",
   "language": "python",
   "name": "python3"
  },
  "language_info": {
   "codemirror_mode": {
    "name": "ipython",
    "version": 3
   },
   "file_extension": ".py",
   "mimetype": "text/x-python",
   "name": "python",
   "nbconvert_exporter": "python",
   "pygments_lexer": "ipython3",
   "version": "3.8.3"
  }
 },
 "nbformat": 4,
 "nbformat_minor": 4
}
